{
 "cells": [
  {
   "cell_type": "markdown",
   "metadata": {},
   "source": [
    "# Mission to Mars"
   ]
  },
  {
   "cell_type": "markdown",
   "metadata": {},
   "source": [
    "### Step 1: Scraping"
   ]
  },
  {
   "cell_type": "code",
   "execution_count": 55,
   "metadata": {},
   "outputs": [],
   "source": [
    "# import dependencies\n",
    "import pandas as pd\n",
    "from bs4 import BeautifulSoup as bs\n",
    "import requests"
   ]
  },
  {
   "cell_type": "markdown",
   "metadata": {},
   "source": [
    "#### a) scrape recent news title and paragraph text from NASA's news site"
   ]
  },
  {
   "cell_type": "code",
   "execution_count": 56,
   "metadata": {},
   "outputs": [],
   "source": [
    "# use local NASA file\n",
    "local_nasa_file = \"News_NASA_Mars_Exploration_Program.html\"\n",
    "nasa_html = open(local_nasa_file, \"r\").read()\n",
    "#use bs to write into html\n",
    "news_soup = bs(nasa_html, \"html.parser\")\n",
    "#news_soup"
   ]
  },
  {
   "cell_type": "code",
   "execution_count": 57,
   "metadata": {},
   "outputs": [],
   "source": [
    "# find latest title\n",
    "news_title = news_soup.find(\"div\", class_=\"content_title\").text\n",
    "#print(news_title)"
   ]
  },
  {
   "cell_type": "code",
   "execution_count": 58,
   "metadata": {},
   "outputs": [],
   "source": [
    "# find latest paragraph\n",
    "news_paragraph = news_soup.find(\"div\", class_=\"rollover_description\").text\n",
    "#print(news_paragraph)"
   ]
  },
  {
   "cell_type": "markdown",
   "metadata": {},
   "source": [
    "#### b) scrape featured image from JPL Mars Space Images"
   ]
  },
  {
   "cell_type": "code",
   "execution_count": 59,
   "metadata": {},
   "outputs": [
    {
     "name": "stdout",
     "output_type": "stream",
     "text": [
      "https://www.jpl.nasa.gov/spaceimages/images/mediumsize/PIA18846_ip.jpg\n"
     ]
    }
   ],
   "source": [
    "# define page to be scraped\n",
    "image_url = \"https://www.jpl.nasa.gov/spaceimages/?search=&category=Mars\"\n",
    "\n",
    "# retrieve page with requests module\n",
    "response = requests.get(image_url)\n",
    "\n",
    "# create bs object; parse with \"lxm\"\n",
    "image_soup = bs(response.text, \"lxml\") \n",
    "\n",
    "# examine result to determine element that contains sought info\n",
    "result = image_soup.find(\"div\", class_=\"carousel_items\") \n",
    "#result\n",
    "\n",
    "# use element to find partial url to add to root of image_url\n",
    "partial_url = image_soup.find_all(\"a\", class_=\"fancybox\")[0].get(\"data-fancybox-href\")\n",
    "\n",
    "# combine partial url with root url\n",
    "combined_image_url = \"https://www.jpl.nasa.gov\" + partial_url\n",
    "\n",
    "# print combined image url\n",
    "print(combined_image_url)"
   ]
  },
  {
   "cell_type": "markdown",
   "metadata": {},
   "source": [
    "#### c) scrape latest weather report from mars weather twitter account"
   ]
  },
  {
   "cell_type": "code",
   "execution_count": 60,
   "metadata": {},
   "outputs": [
    {
     "name": "stdout",
     "output_type": "stream",
     "text": [
      "Sol 2242 (2018-11-26), high -2C/28F, low -70C/-93F, pressure at 8.48 hPa, daylight 06:29-18:45\n"
     ]
    }
   ],
   "source": [
    "# define page to be scraped\n",
    "weather_url = \"https://twitter.com/marswxreport?lang=en\"\n",
    "\n",
    "# retrieve page with requests module\n",
    "response = requests.get(weather_url)\n",
    "\n",
    "# create bs object; parse with \"lxml\"\n",
    "weather_soup = bs(response.text, \"lxml\") \n",
    "\n",
    "# examine result to determine element that contains sought info\n",
    "result = weather_soup.find(\"div\", attrs={\"class\": \"tweet\", \"data-name\": \"Mars Weather\"})\n",
    "#result\n",
    "\n",
    "mars_weather = weather_soup.find(\"p\", class_=\"TweetTextSize TweetTextSize--normal js-tweet-text tweet-text\").text\n",
    "print(mars_weather)"
   ]
  },
  {
   "cell_type": "markdown",
   "metadata": {},
   "source": [
    "#### d) scrape table of facts about mars from space-facts website"
   ]
  },
  {
   "cell_type": "code",
   "execution_count": 61,
   "metadata": {},
   "outputs": [
    {
     "data": {
      "text/html": [
       "<div>\n",
       "<style scoped>\n",
       "    .dataframe tbody tr th:only-of-type {\n",
       "        vertical-align: middle;\n",
       "    }\n",
       "\n",
       "    .dataframe tbody tr th {\n",
       "        vertical-align: top;\n",
       "    }\n",
       "\n",
       "    .dataframe thead th {\n",
       "        text-align: right;\n",
       "    }\n",
       "</style>\n",
       "<table border=\"1\" class=\"dataframe\">\n",
       "  <thead>\n",
       "    <tr style=\"text-align: right;\">\n",
       "      <th></th>\n",
       "      <th>Value</th>\n",
       "    </tr>\n",
       "    <tr>\n",
       "      <th>Measure</th>\n",
       "      <th></th>\n",
       "    </tr>\n",
       "  </thead>\n",
       "  <tbody>\n",
       "    <tr>\n",
       "      <th>Equatorial Diameter:</th>\n",
       "      <td>6,792 km</td>\n",
       "    </tr>\n",
       "    <tr>\n",
       "      <th>Polar Diameter:</th>\n",
       "      <td>6,752 km</td>\n",
       "    </tr>\n",
       "    <tr>\n",
       "      <th>Mass:</th>\n",
       "      <td>6.42 x 10^23 kg (10.7% Earth)</td>\n",
       "    </tr>\n",
       "    <tr>\n",
       "      <th>Moons:</th>\n",
       "      <td>2 (Phobos &amp; Deimos)</td>\n",
       "    </tr>\n",
       "    <tr>\n",
       "      <th>Orbit Distance:</th>\n",
       "      <td>227,943,824 km (1.52 AU)</td>\n",
       "    </tr>\n",
       "    <tr>\n",
       "      <th>Orbit Period:</th>\n",
       "      <td>687 days (1.9 years)</td>\n",
       "    </tr>\n",
       "    <tr>\n",
       "      <th>Surface Temperature:</th>\n",
       "      <td>-153 to 20 °C</td>\n",
       "    </tr>\n",
       "    <tr>\n",
       "      <th>First Record:</th>\n",
       "      <td>2nd millennium BC</td>\n",
       "    </tr>\n",
       "    <tr>\n",
       "      <th>Recorded By:</th>\n",
       "      <td>Egyptian astronomers</td>\n",
       "    </tr>\n",
       "  </tbody>\n",
       "</table>\n",
       "</div>"
      ],
      "text/plain": [
       "                                              Value\n",
       "Measure                                            \n",
       "Equatorial Diameter:                       6,792 km\n",
       "Polar Diameter:                            6,752 km\n",
       "Mass:                 6.42 x 10^23 kg (10.7% Earth)\n",
       "Moons:                          2 (Phobos & Deimos)\n",
       "Orbit Distance:            227,943,824 km (1.52 AU)\n",
       "Orbit Period:                  687 days (1.9 years)\n",
       "Surface Temperature:                  -153 to 20 °C\n",
       "First Record:                     2nd millennium BC\n",
       "Recorded By:                   Egyptian astronomers"
      ]
     },
     "execution_count": 61,
     "metadata": {},
     "output_type": "execute_result"
    }
   ],
   "source": [
    "# define page to be scraped\n",
    "facts_url = \"https://space-facts.com/mars/\"\n",
    "\n",
    "# use pandas to read url table\n",
    "facts_table = pd.read_html(facts_url)\n",
    "#facts_table[0]\n",
    "\n",
    "# convert table into pandas df\n",
    "facts_df = facts_table[0]\n",
    "\n",
    "# change column names\n",
    "facts_df.columns=[\"Measure\",\"Value\"]\n",
    "\n",
    "# set index to Measure column\n",
    "facts_df.set_index(\"Measure\", inplace=True)\n",
    "\n",
    "# convert and save df as html file\n",
    "facts_df.to_html(\"facts_table.html\")\n",
    "\n",
    "# display table in notebook\n",
    "facts_df"
   ]
  },
  {
   "cell_type": "markdown",
   "metadata": {},
   "source": [
    "#### e) scrape images of Mar's hemispheres from USGS Astrogeology site"
   ]
  },
  {
   "cell_type": "code",
   "execution_count": 66,
   "metadata": {},
   "outputs": [],
   "source": [
    "# define page to be scraped\n",
    "hemispheres_url = \"https://astrogeology.usgs.gov/search/results?q=hemisphere+enhanced&k1=target&v1=Mars\"\n",
    "# retrieve page with requests module\n",
    "response = requests.get(hemispheres_url)\n",
    "# create bs object; parse with \"lxml\"\n",
    "hemispheres_soup = bs(response.text, \"lxml\") \n",
    "#print(hemispheres_soup)\n",
    "# examine results to determine element that contains sought info\n",
    "results = hemispheres_soup.find_all(\"div\", class_=\"item\")\n",
    "\n",
    "# create list for all hemisphere titles and image urls\n",
    "hem3_list = []\n",
    "\n",
    "# loop through each hemisphere and add title and image link to dictionary then to list\n",
    "for result in results: \n",
    "    hem_dict = {} \n",
    "    \n",
    "    # find and add title\n",
    "    hem_title = result.find('h3').text.replace(' Enhanced', '') \n",
    "    # find and add initial image url\n",
    "    hem_link = result.find('a', class_='itemLink').get('href')\n",
    "    hemispheres_url2 = \"https://astrogeology.usgs.gov\" + hem_link\n",
    "    response2 = requests.get(hemispheres_url2)\n",
    "    hemispheres_soup2 = bs(response2.text, \"lxml\")\n",
    "    result2 = hemispheres_soup2.find(\"img\", class_=\"wide-image\").get(\"src\")\n",
    "    hem_link2 =  \"https://astrogeology.usgs.gov\" + result2\n",
    "    \n",
    "    hem_dict['img_url'] = hem_link2\n",
    "    hem_dict['title'] = hem_title\n",
    "    # Append dictionaries to list\n",
    "    hem3_list.append(hem_dict)    \n",
    "\n",
    "#    print(hem3_list)"
   ]
  },
  {
   "cell_type": "code",
   "execution_count": null,
   "metadata": {},
   "outputs": [],
   "source": []
  }
 ],
 "metadata": {
  "kernelspec": {
   "display_name": "Python 3",
   "language": "python",
   "name": "python3"
  },
  "language_info": {
   "codemirror_mode": {
    "name": "ipython",
    "version": 3
   },
   "file_extension": ".py",
   "mimetype": "text/x-python",
   "name": "python",
   "nbconvert_exporter": "python",
   "pygments_lexer": "ipython3",
   "version": "3.6.5"
  }
 },
 "nbformat": 4,
 "nbformat_minor": 2
}
